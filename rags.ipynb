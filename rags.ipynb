{
 "cells": [
  {
   "cell_type": "markdown",
   "id": "63c92b66-8235-42ac-8e3b-b7f78ade3236",
   "metadata": {
    "jp-MarkdownHeadingCollapsed": true,
    "tags": []
   },
   "source": [
    "## Tools"
   ]
  },
  {
   "cell_type": "code",
   "execution_count": null,
   "id": "77e03630-a443-4c6d-adfd-fc32e6dc0c58",
   "metadata": {},
   "outputs": [],
   "source": [
    "from llama_index.agent import OpenAIAgent\n",
    "from llama_index.llms import OpenAI\n",
    "from llama_index.tools import BaseTool, FunctionTool"
   ]
  },
  {
   "cell_type": "code",
   "execution_count": null,
   "id": "a6ec9968-b39b-4932-9f02-c0abcbceb552",
   "metadata": {
    "tags": []
   },
   "outputs": [],
   "source": [
    "def multiply(a: int, b: int) -> int:\n",
    "    \"\"\"Multiple two integers and returns the result integer\"\"\"\n",
    "    return a * b\n",
    "\n",
    "\n",
    "multiply_tool = FunctionTool.from_defaults(fn=multiply)"
   ]
  },
  {
   "cell_type": "code",
   "execution_count": null,
   "id": "437da150-2a87-4426-ac49-bcb56e7a7bbf",
   "metadata": {},
   "outputs": [],
   "source": [
    "def add(a: int, b: int) -> int:\n",
    "    \"\"\"Add two integers and returns the result integer\"\"\"\n",
    "    return a + b\n",
    "\n",
    "\n",
    "add_tool = FunctionTool.from_defaults(fn=add)"
   ]
  },
  {
   "cell_type": "code",
   "execution_count": null,
   "id": "73b27b09-d4b8-4536-9cd2-ff2ad05f223d",
   "metadata": {},
   "outputs": [],
   "source": [
    "llm = OpenAI(model=\"gpt-3.5-turbo-0613\")\n",
    "agent = OpenAIAgent.from_tools(\n",
    "    [multiply_tool, add_tool], llm=llm, verbose=True\n",
    ")"
   ]
  },
  {
   "cell_type": "code",
   "execution_count": null,
   "id": "438d701c-ffa8-45fd-8ef1-642acf7bf659",
   "metadata": {},
   "outputs": [],
   "source": [
    "response = agent.chat(\"What is (121 * 3) + 42?\")\n",
    "print(str(response))"
   ]
  },
  {
   "cell_type": "code",
   "execution_count": null,
   "id": "52e845e3-7a66-4ecd-897c-c29d64a62216",
   "metadata": {},
   "outputs": [],
   "source": [
    "print(response.sources)"
   ]
  },
  {
   "cell_type": "markdown",
   "id": "4293c8a0-99a2-4d01-9d2e-1a26e13ab579",
   "metadata": {
    "jp-MarkdownHeadingCollapsed": true,
    "tags": []
   },
   "source": [
    "## Using Query Engine"
   ]
  },
  {
   "cell_type": "code",
   "execution_count": null,
   "id": "ce8b5bb0-29a8-499b-85e8-597503e85ba4",
   "metadata": {},
   "outputs": [],
   "source": [
    "from llama_index import (\n",
    "    SimpleDirectoryReader,\n",
    "    VectorStoreIndex,\n",
    "    StorageContext,\n",
    "    load_index_from_storage,\n",
    ")\n",
    "\n",
    "from llama_index.agent import OpenAIAgent\n",
    "from llama_index.tools import QueryEngineTool, ToolMetadata"
   ]
  },
  {
   "cell_type": "code",
   "execution_count": null,
   "id": "71961245-dc6a-48ed-be30-b70f79fe0442",
   "metadata": {},
   "outputs": [],
   "source": [
    "try:\n",
    "    storage_context = StorageContext.from_defaults(\n",
    "        persist_dir=\"./storage/lyft\"\n",
    "    )\n",
    "    lyft_index = load_index_from_storage(storage_context)\n",
    "\n",
    "    storage_context = StorageContext.from_defaults(\n",
    "        persist_dir=\"./storage/uber\"\n",
    "    )\n",
    "    uber_index = load_index_from_storage(storage_context)\n",
    "\n",
    "    index_loaded = True\n",
    "except:\n",
    "    index_loaded = False"
   ]
  },
  {
   "cell_type": "code",
   "execution_count": null,
   "id": "24dab2f3-38f2-402a-9fed-7f57b1cc6471",
   "metadata": {},
   "outputs": [],
   "source": [
    "if not index_loaded:\n",
    "    # load data\n",
    "    lyft_docs = SimpleDirectoryReader(\n",
    "        input_files=[\"./data/10k/lyft_2021.pdf\"]\n",
    "    ).load_data()\n",
    "    uber_docs = SimpleDirectoryReader(\n",
    "        input_files=[\"./data/10k/uber_2021.pdf\"]\n",
    "    ).load_data()\n",
    "\n",
    "    # build index\n",
    "    lyft_index = VectorStoreIndex.from_documents(lyft_docs)\n",
    "    uber_index = VectorStoreIndex.from_documents(uber_docs)\n",
    "\n",
    "    # persist index\n",
    "    lyft_index.storage_context.persist(persist_dir=\"./storage/lyft\")\n",
    "    uber_index.storage_context.persist(persist_dir=\"./storage/uber\")"
   ]
  },
  {
   "cell_type": "code",
   "execution_count": null,
   "id": "758c37b8-af5e-4e45-85d3-f317ff3502c8",
   "metadata": {},
   "outputs": [],
   "source": [
    "lyft_engine = lyft_index.as_query_engine(similarity_top_k=3)\n",
    "uber_engine = uber_index.as_query_engine(similarity_top_k=3)"
   ]
  },
  {
   "cell_type": "code",
   "execution_count": null,
   "id": "d9e6fa89-2793-4287-8a0d-f9e35674ba8f",
   "metadata": {},
   "outputs": [],
   "source": [
    "query_engine_tools = [\n",
    "    QueryEngineTool(\n",
    "        query_engine=lyft_engine,\n",
    "        metadata=ToolMetadata(\n",
    "            name=\"lyft_10k\",\n",
    "            description=(\n",
    "                \"Provides information about Lyft financials for year 2021. \"\n",
    "                \"Use a detailed plain text question as input to the tool.\"\n",
    "            ),\n",
    "        ),\n",
    "    ),\n",
    "    QueryEngineTool(\n",
    "        query_engine=uber_engine,\n",
    "        metadata=ToolMetadata(\n",
    "            name=\"uber_10k\",\n",
    "            description=(\n",
    "                \"Provides information about Uber financials for year 2021. \"\n",
    "                \"Use a detailed plain text question as input to the tool.\"\n",
    "            ),\n",
    "        ),\n",
    "    ),\n",
    "]"
   ]
  },
  {
   "cell_type": "code",
   "execution_count": null,
   "id": "ff2350c8-acd7-48e3-aa59-a73dca4eba22",
   "metadata": {},
   "outputs": [],
   "source": [
    "agent = OpenAIAgent.from_tools(query_engine_tools, verbose=True)"
   ]
  },
  {
   "cell_type": "code",
   "execution_count": null,
   "id": "a8fbd417-30e7-4452-bf7b-2bd49524cea8",
   "metadata": {},
   "outputs": [],
   "source": [
    "agent.chat_repl()"
   ]
  },
  {
   "cell_type": "markdown",
   "id": "f231fb07-78d1-4c79-a259-51a2c4c92dce",
   "metadata": {
    "tags": []
   },
   "source": [
    "## Context Augmented Agent"
   ]
  },
  {
   "cell_type": "code",
   "execution_count": null,
   "id": "71d8af44-6566-43f3-bb57-869267995862",
   "metadata": {},
   "outputs": [],
   "source": [
    "import json\n",
    "from typing import Sequence\n",
    "\n",
    "from llama_index import (\n",
    "    SimpleDirectoryReader,\n",
    "    VectorStoreIndex,\n",
    "    StorageContext,\n",
    "    load_index_from_storage,\n",
    ")\n",
    "from llama_index.tools import QueryEngineTool, ToolMetadata\n",
    "from llama_index.tools import BaseTool, FunctionTool\n",
    "\n",
    "from llama_index.schema import Document\n",
    "from llama_index.agent import ContextRetrieverOpenAIAgent"
   ]
  },
  {
   "cell_type": "code",
   "execution_count": null,
   "id": "e698111c-4abb-4453-ad9d-6bd2d06c44e1",
   "metadata": {},
   "outputs": [],
   "source": [
    "try:\n",
    "    storage_context = StorageContext.from_defaults(\n",
    "        persist_dir=\"./storage/march\"\n",
    "    )\n",
    "    march_index = load_index_from_storage(storage_context)\n",
    "\n",
    "    storage_context = StorageContext.from_defaults(\n",
    "        persist_dir=\"./storage/june\"\n",
    "    )\n",
    "    june_index = load_index_from_storage(storage_context)\n",
    "\n",
    "    storage_context = StorageContext.from_defaults(\n",
    "        persist_dir=\"./storage/sept\"\n",
    "    )\n",
    "    sept_index = load_index_from_storage(storage_context)\n",
    "\n",
    "    index_loaded = True\n",
    "except:\n",
    "    index_loaded = False"
   ]
  },
  {
   "cell_type": "code",
   "execution_count": null,
   "id": "15de01d8-92de-421f-8c8d-192ca5c01f15",
   "metadata": {},
   "outputs": [],
   "source": [
    "# build indexes across the three data sources\n",
    "\n",
    "if not index_loaded:\n",
    "    # load data\n",
    "    print(\"Loading data...\")\n",
    "    march_docs = SimpleDirectoryReader(\n",
    "        input_files=[\"./data/10q/uber_10q_march_2022.pdf\"]\n",
    "    ).load_data()\n",
    "    june_docs = SimpleDirectoryReader(\n",
    "        input_files=[\"./data/10q/uber_10q_june_2022.pdf\"]\n",
    "    ).load_data()\n",
    "    sept_docs = SimpleDirectoryReader(\n",
    "        input_files=[\"./data/10q/uber_10q_sept_2022.pdf\"]\n",
    "    ).load_data()\n",
    "    print(\"Done!\\n\\n\")\n",
    "\n",
    "    # build index\n",
    "    print(\"Building index...\")\n",
    "    march_index = VectorStoreIndex.from_documents(march_docs)\n",
    "    june_index = VectorStoreIndex.from_documents(june_docs)\n",
    "    sept_index = VectorStoreIndex.from_documents(sept_docs)\n",
    "    print(\"Done!\\n\\n\")\n",
    "\n",
    "    # persist index\n",
    "    print(\"Persisting index...\")\n",
    "    march_index.storage_context.persist(persist_dir=\"./storage/march\")\n",
    "    june_index.storage_context.persist(persist_dir=\"./storage/june\")\n",
    "    sept_index.storage_context.persist(persist_dir=\"./storage/sept\")\n",
    "    print(\"Done!\\n\\n\")"
   ]
  },
  {
   "cell_type": "code",
   "execution_count": null,
   "id": "fc0c7401-0c03-4ec8-8af2-db8b036d6beb",
   "metadata": {},
   "outputs": [],
   "source": [
    "march_engine = march_index.as_query_engine(similarity_top_k=3)\n",
    "june_engine = june_index.as_query_engine(similarity_top_k=3)\n",
    "sept_engine = sept_index.as_query_engine(similarity_top_k=3)\n",
    "\n",
    "query_engine_tools = [\n",
    "    QueryEngineTool(\n",
    "        query_engine=march_engine,\n",
    "        metadata=ToolMetadata(\n",
    "            name=\"uber_march_10q\",\n",
    "            description=(\n",
    "                \"Provides information about Uber 10Q filings for March 2022. \"\n",
    "                \"Use a detailed plain text question as input to the tool.\"\n",
    "            ),\n",
    "        ),\n",
    "    ),\n",
    "    QueryEngineTool(\n",
    "        query_engine=june_engine,\n",
    "        metadata=ToolMetadata(\n",
    "            name=\"uber_june_10q\",\n",
    "            description=(\n",
    "                \"Provides information about Uber financials for June 2021. \"\n",
    "                \"Use a detailed plain text question as input to the tool.\"\n",
    "            ),\n",
    "        ),\n",
    "    ),\n",
    "    QueryEngineTool(\n",
    "        query_engine=sept_engine,\n",
    "        metadata=ToolMetadata(\n",
    "            name=\"uber_sept_10q\",\n",
    "            description=(\n",
    "                \"Provides information about Uber financials for Sept 2021. \"\n",
    "                \"Use a detailed plain text question as input to the tool.\"\n",
    "            ),\n",
    "        ),\n",
    "    ),\n",
    "]"
   ]
  },
  {
   "cell_type": "code",
   "execution_count": null,
   "id": "e2822358-c9fc-4767-a199-663c62be6c93",
   "metadata": {},
   "outputs": [],
   "source": [
    "# toy index - stores a list of abbreviations\n",
    "texts = [\n",
    "    \"Abbreviation: X = Revenue\",\n",
    "    \"Abbreviation: YZ = Risk Factors\",\n",
    "    \"Abbreviation: Z = Costs\",\n",
    "]\n",
    "docs = [Document(text=t) for t in texts]\n",
    "context_index = VectorStoreIndex.from_documents(docs)"
   ]
  },
  {
   "cell_type": "code",
   "execution_count": null,
   "id": "332dc310-40ee-47cf-90fe-530287924aa6",
   "metadata": {},
   "outputs": [],
   "source": [
    "context_agent = ContextRetrieverOpenAIAgent.from_tools_and_retriever(\n",
    "    query_engine_tools,\n",
    "    context_index.as_retriever(similarity_top_k=1),\n",
    "    verbose=True,\n",
    ")"
   ]
  },
  {
   "cell_type": "code",
   "execution_count": null,
   "id": "3999e6de-73c5-459f-b02f-6cee126cb561",
   "metadata": {},
   "outputs": [],
   "source": [
    "response = context_agent.chat(\"What is the YZ of March 2022?\")"
   ]
  },
  {
   "cell_type": "code",
   "execution_count": null,
   "id": "d96d94c2-e461-435a-b6d0-5b4e0bed9cc0",
   "metadata": {},
   "outputs": [],
   "source": [
    "print(str(response))"
   ]
  },
  {
   "cell_type": "code",
   "execution_count": null,
   "id": "0153ba28-9a3a-4206-b989-15a29cd3081c",
   "metadata": {},
   "outputs": [],
   "source": [
    "context_agent.chat(\"What is the X and Z in September 2022?\")"
   ]
  },
  {
   "cell_type": "code",
   "execution_count": null,
   "id": "d40f6b17-e982-4788-9066-810c95b45ea8",
   "metadata": {},
   "outputs": [],
   "source": [
    "def magic_formula(revenue: int, cost: int) -> int:\n",
    "    \"\"\"Runs MAGIC_FORMULA on revenue and cost.\"\"\"\n",
    "    return revenue - cost\n",
    "\n",
    "\n",
    "magic_tool = FunctionTool.from_defaults(fn=magic_formula, name=\"magic_formula\")"
   ]
  },
  {
   "cell_type": "code",
   "execution_count": null,
   "id": "1679f772-716b-425b-a880-f5dd9151ff24",
   "metadata": {},
   "outputs": [],
   "source": [
    "context_agent = ContextRetrieverOpenAIAgent.from_tools_and_retriever(\n",
    "    [magic_tool], sept_index.as_retriever(similarity_top_k=3), verbose=True\n",
    ")"
   ]
  },
  {
   "cell_type": "code",
   "execution_count": null,
   "id": "165a2a1f-f848-4155-a839-ecd564b2378b",
   "metadata": {},
   "outputs": [],
   "source": [
    "response = context_agent.chat(\n",
    "    \"Please run MAGIC_FORMULA on Uber's revenue and cost\"\n",
    ")"
   ]
  },
  {
   "cell_type": "code",
   "execution_count": null,
   "id": "9332fa82-e928-4496-9450-a59dcf79b803",
   "metadata": {},
   "outputs": [],
   "source": [
    "print(response)"
   ]
  },
  {
   "cell_type": "markdown",
   "id": "f8297af8-2f2d-4ad1-8f4f-2569e9047919",
   "metadata": {
    "tags": []
   },
   "source": [
    "## Context from webpage"
   ]
  },
  {
   "cell_type": "code",
   "execution_count": 39,
   "id": "f97d26dc-5d68-4143-aa0f-f60096774545",
   "metadata": {},
   "outputs": [],
   "source": [
    "from llama_index import VectorStoreIndex, StorageContext, download_loader, load_index_from_storage\n",
    "from llama_index.schema import Document\n",
    "from llama_index.tools import QueryEngineTool, ToolMetadata\n",
    "from llama_index.agent import ContextRetrieverOpenAIAgent\n",
    "from llama_index.prompts import PromptTemplate"
   ]
  },
  {
   "cell_type": "code",
   "execution_count": 21,
   "id": "eaea3dcf-2655-47b2-8a40-cb9ebdbb1ed8",
   "metadata": {},
   "outputs": [
    {
     "name": "stdout",
     "output_type": "stream",
     "text": [
      "All data loaded from disk!\n"
     ]
    }
   ],
   "source": [
    "try:\n",
    "    storage_context = StorageContext.from_defaults(\n",
    "        persist_dir=\"./storage/zharta\"\n",
    "    )\n",
    "    index_gitbook = load_index_from_storage(storage_context)\n",
    "    query_engine_gitbook = index_gitbook.as_query_engine()\n",
    "\n",
    "    print(\"All data loaded from disk!\")\n",
    "    index_loaded = True\n",
    "except:\n",
    "    index_loaded = False\n",
    "    print(\"Data not loaded from disk!\")"
   ]
  },
  {
   "cell_type": "code",
   "execution_count": 15,
   "id": "818c5fa5-6d38-4287-bdc4-00501d8b85f6",
   "metadata": {},
   "outputs": [
    {
     "name": "stdout",
     "output_type": "stream",
     "text": [
      "Index loaded from disk\n"
     ]
    }
   ],
   "source": [
    "if not index_loaded:\n",
    "    print(\"Reading gitbook...\")\n",
    "    TrafilaturaWebReader = download_loader(\"TrafilaturaWebReader\")\n",
    "\n",
    "    loader = TrafilaturaWebReader()\n",
    "    documents_gitbook = loader.load_data(\n",
    "        urls=[\n",
    "            'https://zharta.gitbook.io/zharta-welcome-kit/overview/introducing-zharta',\n",
    "            'https://zharta.gitbook.io/zharta-welcome-kit/overview/manifesto',\n",
    "            'https://zharta.gitbook.io/zharta-welcome-kit/overview/team',\n",
    "            'https://zharta.gitbook.io/zharta-welcome-kit/nft-lending/zharta-lending-offer',\n",
    "            'https://zharta.gitbook.io/zharta-welcome-kit/nft-lending/supported-collections',\n",
    "            'https://zharta.gitbook.io/zharta-welcome-kit/nft-lending/faq',\n",
    "            'https://zharta.gitbook.io/zharta-welcome-kit/nft-lending/as-a-borrower',\n",
    "            'https://zharta.gitbook.io/zharta-welcome-kit/nft-lending/as-a-borrower/requesting-a-loan',\n",
    "            'https://zharta.gitbook.io/zharta-welcome-kit/nft-lending/as-a-borrower/grace-period',\n",
    "            'https://zharta.gitbook.io/zharta-welcome-kit/nft-lending/as-a-borrower/notification-system',\n",
    "            'https://zharta.gitbook.io/zharta-welcome-kit/nft-lending/as-a-borrower/delegation',\n",
    "            'https://zharta.gitbook.io/zharta-welcome-kit/nft-lending/as-a-borrower/tailored-deals',\n",
    "            'https://zharta.gitbook.io/zharta-welcome-kit/nft-lending/as-a-lender',\n",
    "            'https://zharta.gitbook.io/zharta-welcome-kit/nft-lending/as-a-lender/making-a-deposit',\n",
    "            'https://zharta.gitbook.io/zharta-welcome-kit/nft-lending/as-a-lender/lending-pools',\n",
    "            'https://zharta.gitbook.io/zharta-welcome-kit/nft-lending/as-a-lender/buy-now',\n",
    "            'https://zharta.gitbook.io/zharta-welcome-kit/nft-lending/risk-management',\n",
    "            'https://zharta.gitbook.io/zharta-welcome-kit/nft-lending/risk-management/data',\n",
    "            'https://zharta.gitbook.io/zharta-welcome-kit/nft-lending/risk-management/trait-boosts',\n",
    "            'https://zharta.gitbook.io/zharta-welcome-kit/nft-lending/risk-management/stability-controls',\n",
    "            'https://zharta.gitbook.io/zharta-welcome-kit/nft-lending/risk-management/risk-monitoring',\n",
    "            'https://zharta.gitbook.io/zharta-welcome-kit/nft-lending/risk-management/recovery-liquidation',\n",
    "            'https://zharta.gitbook.io/zharta-welcome-kit/nft-lending/risk-management/protocol-simulator',\n",
    "            'https://zharta.gitbook.io/zharta-welcome-kit/nft-lending/protocol-lending',\n",
    "            'https://zharta.gitbook.io/zharta-welcome-kit/nft-lending/protocol-lending/contract-addresses',\n",
    "            'https://zharta.gitbook.io/zharta-welcome-kit/nft-lending/protocol-lending/protocol-fees',\n",
    "            'https://zharta.gitbook.io/zharta-welcome-kit/nft-lending/protocol-lending/security-audits',\n",
    "            'https://zharta.gitbook.io/zharta-welcome-kit/otherside-renting/zharta-renting-offer',\n",
    "            'https://zharta.gitbook.io/zharta-welcome-kit/otherside-renting/supported-collections-renting',\n",
    "            'https://zharta.gitbook.io/zharta-welcome-kit/otherside-renting/faq',\n",
    "            'https://zharta.gitbook.io/zharta-welcome-kit/otherside-renting/v2-migration',\n",
    "            'https://zharta.gitbook.io/zharta-welcome-kit/otherside-renting/as-an-owner',\n",
    "            'https://zharta.gitbook.io/zharta-welcome-kit/otherside-renting/as-an-owner/listing-an-asset',\n",
    "            'https://zharta.gitbook.io/zharta-welcome-kit/otherside-renting/as-an-owner/updating-rental-conditions',\n",
    "            'https://zharta.gitbook.io/zharta-welcome-kit/otherside-renting/as-an-owner/self-delegation',\n",
    "            'https://zharta.gitbook.io/zharta-welcome-kit/otherside-renting/as-an-owner/unlisting-and-withdrawing',\n",
    "            'https://zharta.gitbook.io/zharta-welcome-kit/otherside-renting/as-an-owner/claiming-your-earnings',\n",
    "            'https://zharta.gitbook.io/zharta-welcome-kit/otherside-renting/as-a-renter',\n",
    "            'https://zharta.gitbook.io/zharta-welcome-kit/otherside-renting/as-a-renter/renting-an-asset',\n",
    "            'https://zharta.gitbook.io/zharta-welcome-kit/otherside-renting/as-a-renter/rental-delegation',\n",
    "            'https://zharta.gitbook.io/zharta-welcome-kit/otherside-renting/as-a-renter/canceling-a-rental',\n",
    "            'https://zharta.gitbook.io/zharta-welcome-kit/otherside-renting/protocol-renting',\n",
    "            'https://zharta.gitbook.io/zharta-welcome-kit/otherside-renting/protocol-renting/protocol-fees',\n",
    "            'https://zharta.gitbook.io/zharta-welcome-kit/otherside-renting/protocol-renting/security-audits',\n",
    "            'https://zharta.gitbook.io/zharta-welcome-kit/resources/privacy-policy',\n",
    "            'https://zharta.gitbook.io/zharta-welcome-kit/resources/terms-and-conditions',\n",
    "            'https://zharta.gitbook.io/zharta-welcome-kit/resources/support',\n",
    "            'https://zharta.gitbook.io/zharta-welcome-kit/resources/terminology',\n",
    "        ]\n",
    "    )\n",
    "    index_gitbook = VectorStoreIndex.from_documents(documents_gitbook)\n",
    "    index_gitbook.storage_context.persist(persist_dir=\"./storage/zharta\")\n",
    "    query_engine_gitbook = index_gitbook.as_query_engine()\n",
    "    print(\"Done!\")\n",
    "else:\n",
    "    print(\"Index loaded from disk\")"
   ]
  },
  {
   "cell_type": "code",
   "execution_count": null,
   "id": "5e6c56fc-f76d-4ed6-9595-e06ceae1d7f0",
   "metadata": {},
   "outputs": [],
   "source": [
    "if not index_loaded:\n",
    "    # load data\n",
    "    print(\"Loading data...\")\n",
    "    march_docs = SimpleDirectoryReader(\n",
    "        input_files=[\"./data/10q/uber_10q_march_2022.pdf\"]\n",
    "    ).load_data()\n",
    "    june_docs = SimpleDirectoryReader(\n",
    "        input_files=[\"./data/10q/uber_10q_june_2022.pdf\"]\n",
    "    ).load_data()\n",
    "    sept_docs = SimpleDirectoryReader(\n",
    "        input_files=[\"./data/10q/uber_10q_sept_2022.pdf\"]\n",
    "    ).load_data()\n",
    "    print(\"Done!\\n\\n\")\n",
    "\n",
    "    # build index\n",
    "    print(\"Building index...\")\n",
    "    march_index = VectorStoreIndex.from_documents(march_docs)\n",
    "    june_index = VectorStoreIndex.from_documents(june_docs)\n",
    "    sept_index = VectorStoreIndex.from_documents(sept_docs)\n",
    "    print(\"Done!\\n\\n\")\n",
    "\n",
    "    # persist index\n",
    "    print(\"Persisting index...\")\n",
    "    march_index.storage_context.persist(persist_dir=\"./storage/march\")\n",
    "    june_index.storage_context.persist(persist_dir=\"./storage/june\")\n",
    "    sept_index.storage_context.persist(persist_dir=\"./storage/sept\")\n",
    "    print(\"Done!\\n\\n\")"
   ]
  },
  {
   "cell_type": "code",
   "execution_count": 16,
   "id": "bee2c7d2-b09a-4452-822f-f1b946f8dc8b",
   "metadata": {},
   "outputs": [],
   "source": [
    "documents_contacts = [\n",
    "    Document(text=\"Zharta's Email Address is test@test.com\"),\n",
    "    Document(text=\"Zharta's X account is @zhartafinance\"),\n",
    "    Document(text=\"Zharta's Discord server is @randomcenas\"),\n",
    "]\n",
    "index_contacts = VectorStoreIndex.from_documents(documents_contacts)\n",
    "query_engine_contacts = index_contacts.as_query_engine()"
   ]
  },
  {
   "cell_type": "code",
   "execution_count": 33,
   "id": "3d7d7cea-d342-4c3d-abe9-84fd2c6c1603",
   "metadata": {},
   "outputs": [],
   "source": [
    "query_engine_tools = [\n",
    "    QueryEngineTool(\n",
    "        query_engine=query_engine_contacts,\n",
    "        metadata=ToolMetadata(\n",
    "            name=\"contacts\",\n",
    "            description=(\n",
    "                \"Provides information about Zharta's contacts. \"\n",
    "                \"Use a detailed plain text question as input to the tool.\"\n",
    "            ),\n",
    "        ),\n",
    "    ),\n",
    "]"
   ]
  },
  {
   "cell_type": "code",
   "execution_count": 34,
   "id": "5dd36cf4-b70d-4334-8a95-bb8d549f3e24",
   "metadata": {},
   "outputs": [],
   "source": [
    "context_agent = ContextRetrieverOpenAIAgent.from_tools_and_retriever(\n",
    "    query_engine_tools,\n",
    "    index_gitbook.as_retriever(similarity_top_k=3),\n",
    "    verbose=True,\n",
    ")"
   ]
  },
  {
   "cell_type": "code",
   "execution_count": 41,
   "id": "90cdd871-1fc5-41c3-8c73-5c6412c33811",
   "metadata": {},
   "outputs": [],
   "source": [
    "template = (\n",
    "    \"We have provided context information below. \\n\"\n",
    "    \"---------------------\\n\"\n",
    "    \"{context_str}\"\n",
    "    \"\\n---------------------\\n\"\n",
    "    \"Given this information, please answer the question: {query_str}\\n\"\n",
    ")\n",
    "qa_template = PromptTemplate(template)\n",
    "\n",
    "context_str = (\n",
    "    'Always answer as if you were a customer service answer working at Zharta. '\n",
    "    'Prefer to use \"we\" instead of \"them\" when talking about Zharta, its team or its customer service. '\n",
    "    'Always keep in mind that Zharta provides two services: lending and borrowing using NFTs as collateral, and renting for the LOTM game. '\n",
    "    'Never abbreviate Legens of the Mara as LOTM. '\n",
    ")"
   ]
  },
  {
   "cell_type": "code",
   "execution_count": 57,
   "id": "0ca1466d-1ddd-4029-b7f1-d0b39ea55d65",
   "metadata": {},
   "outputs": [
    {
     "name": "stdout",
     "output_type": "stream",
     "text": [
      "\u001b[1;3;33mContext information is below.\n",
      "---------------------\n",
      "Zharta Documentation\n",
      "Search\n",
      "⌃\n",
      "K\n",
      "OVERVIEW\n",
      "Introducing Zharta\n",
      "Manifesto\n",
      "Team\n",
      "NFT Lending\n",
      "Zharta Lending Offer\n",
      "Supported Collections\n",
      "FAQ\n",
      "As a Borrower\n",
      "As a Lender\n",
      "Risk Management\n",
      "Protocol - Lending\n",
      "Otherside Renting\n",
      "Zharta Renting Offer\n",
      "Supported Collections – Renting\n",
      "FAQ\n",
      "V2 Migration\n",
      "As an Owner\n",
      "As a Renter\n",
      "Protocol - Renting\n",
      "Resources\n",
      "Privacy Policy\n",
      "Terms & Conditions\n",
      "Support\n",
      "Terminology\n",
      "Powered By\n",
      "GitBook\n",
      "Comment on page\n",
      "Introducing Zharta\n",
      "DeFi Web3 startup that provides instant loans & renting services using NFTs as collateral, enabling NFT holders to get liquidity & yield without having to sell their NFTs\n",
      "Why Zharta?\n",
      "1.\n",
      "Instant Liquidity\n",
      "2.\n",
      "Liquidation Protection\n",
      "3.\n",
      "Flexible, Pro-Rata Pricing\n",
      "4.\n",
      "Asset Bundling\n",
      "5.\n",
      "Exclusive Lender Access to Defaulted NFTs\n",
      "6.\n",
      "Otherside Renting\n",
      "Next - OVERVIEW\n",
      "Manifesto\n",
      "Last modified\n",
      "12d ago\n",
      "Comment on page\n",
      "FAQ\n",
      "What the ... ?\n",
      "Zharta is a real-time NFT loan platform for borrowers and lenders.\n",
      "Our smart contracts allow you to get instant liquidity from your NFTs without having to sell them.\n",
      "Zharta’s platform was designed to be user-friendly and accessible to anyone, regardless of their level of experience. Thanks to our permissionless protocol, you can get a loan instantly. You can also bundle several NFTs into a single loan, and you will only pay interest on the number of days it actually took you to repay the loan. Additionally, our loans are maturity-based and guarantee liquidation protection during the full time of the loan.\n",
      "Currently, we only support desktop devices. We recommend Google Chrome or Firefox for a better experience.\n",
      "No. Borrowers will only be charged for the interest, which will be split between Zharta and the lending pool.\n",
      "Yes. Our protocol supports EIP-1271, allowing for signature verification when an account is a smart contract. Zharta's smart contracts support Gnosis Safe multi-sig, but the dApp is not yet supported.\n",
      "No. Zharta doesn't get custody of your assets. NFTs used as collateral are held in a smart contract escrow. This means that the assets are held by the smart contract itself, and are always subject to the pre-agreed business rules of the loan.\n",
      "Smart contracts are programs stored within the blockchain that work as self-executing contracts. Once the two parties agree upon the terms, these are coded into the contract and deployed to the blockchain, thus rendering the transaction irreversible, traceable and transparent.\n",
      "No. Our loans offer full protection from liquidation during the term of the loan. Your loan will only default if you fail to pay on time.\n",
      "No, the interest charged is pro rata. Even if you take out a loan with a longer duration than you need, you will only pay for the days that passed until you repaid the loan (with a 7-day minimum).\n",
      "Yes, you can bundle several assets into a single loan.\n",
      "You can select the capital you want to borrow and we’ll help you choose the assets that best support your loan. If you don't agree with our selection, you are free to customize the NFTs you want to use, provided they match the value required for the loan you chose.\n",
      "Yes. Zharta allows for non-custodial loans on top of decentralized smart contracts to take advantage of the strength, transparency, and security of the blockchain networks where your assets are located.\n",
      "As a summary, Zharta's Appraisal Model makes use of Floor Price and Trait Boosts to appraise NFTs. This means that more common NFTs will be valued at their collection's base value, while rarer NFTs will be valued at a multiplier of the collection's base value.\n",
      "See Loan Conditions section in the app for more information regarding the Floor Prices and Trait Boosts available for a selected group of NFT collections.\n",
      "When a borrower defaults, their collateralized assets enter a 48 hours grace period. They can repay their loans with a penalty fee to get their NFTs back during this time. After the grace period ends, we will give the lenders the option to purchase the NFTs at a quoted price for 48 hours. If the assets are not sold then, they will be automatically sold to a 3rd party at the current market price.\n",
      "We are always evaluating the market and adding new collections according to our metrics. If you would like to see your favorite collection on our platform, please fill out this form and we will make sure to study it.\n",
      "Go to https://app.zharta.io/borrow. Connect your wallet (you only need to do this in the beginning) and select the currency and period for your loan. Use the slider to select the loan amount. If auto-select is toggled on, after you choose how much you want to borrow assets will be chosen and suggested to you automatically. You can deselect assets that you don't want to use.\n",
      "Alternatively, you can toggle auto-select off and manually select the assets you want to collateralize, and we’ll adjust the amount you can loan accordingly.\n",
      "If you choose to approve the given quote, you are all set. Congrats!\n",
      "Go to https://app.zharta.io/lend. Connect your wallet (you only need to do this the first time) and choose a lending pool. Click deposit, choose an amount, and you’re done! After making a deposit, you’ll be able to bid for defaulted NFTs that are in your pool and, after a 7-day lock-up period, withdraw the invested amount and your gains.\n",
      "MetaMask – A browser extension and mobile app. MetaMask is Web3’s most popular wallet and one of the oldest players in the industry.\n",
      "Comment on page\n",
      "Terms & Conditions\n",
      "Last version: September 12, 2022\n",
      "The present Terms and Conditions (“Terms”) govern the access and use of the services available at: https://zharta.io, under the responsibility of Zhartabal Enterprise SA (“Zharta”, “we”, “our”, or “us”) with headquarters at Rua da Prata 80 1100-415 Lisboa, registered under the company number 516603949.\n",
      "These Terms are between the User (“you”, “yours”, “Borrower” or “Lender”) which could be any natural or legal person that accesses and/or uses our Services. By using or accessing the Zharta Service (as defined below), you acknowledge and agree to these Terms.\n",
      "These Terms are related to your access and/or use of the services related to a decentralized and permissionless lending protocol (“Service” or “Platform”) that allows the Users to act as Lenders by depositing Wrapped Ether (“WETH”) in open lending pools (“LP”) and as Borrowers to borrow WETH by depositing non-fungible tokens (“NFTs”) as collateral.\n",
      "BY READING THESE TERMS, YOU ACKNOWLEDGE AND AGREE THAT NEITHER ZHARTA NOR THE PROTOCOL IS A LENDER OR A BORROWER OF ANY LOAN AND THAT YOUR USE OF THE SERVICES DOES NOT CONVERT ZHARTA INTO A LENDER OR BORROWER OF THE LOANS.\n",
      "The User should read these terms carefully and if you do not agree with them, you should not access and use our Services.\n",
      "1.1. The Service is a real-time decentralized, permissionless, and non-custodial NFT loan platform for borrowers and lenders.\n",
      "1.2. The Zharta platform currently operates on the Ethereum Network.\n",
      "1.3. At this stage, it is only possible to connect to Zharta through MetaMask.\n",
      "ALL THE INTERACTIONS THAT ARE INITIATED THROUGH OUR SERVICE ARE ENABLED AND MANAGED BY A THIRD-PARTY E-WALLET EXTENSION, AND BY USING THE SERVICES YOU AGREE THAT YOU ARE ALSO GOVERNED BY THE TERMS AND CONDITIONS, AS WELL AS PRIVACY POLICY, FOR THE APPLICABLE EXTENSIONS. FOR METAMASK, THESE ARE AVAILABLE AT:\n",
      "1.4. Zharta is not a borrower or lender, exchange broker, or financial institution. Zharta provides services through the Ethereum Network which is a public blockchain. We have no control over the blockchain or extensions the Users interact with, and we do not control, hold or have custody over the NFTs and WETH, nor do we perform sales, transfers, or purchases on behalf of and/or on the account of the Users.\n",
      "2.1. If the User intends to act as a borrower, they need to deposit NFTs of the supported collections as collateral to borrow WETH. The conditions and maturity of the loan are provided in real-time and the lent WETH is transferred to his/her wallet upon fulfilling the protocol requirements.\n",
      "2.2. As a Borrower, you agree to comply with our policies and practices as set forth herein, even though they can be revised from time to time, and also that:\n",
      "(i) You assume all liability by accepting the maturity and conditions offered at the time of loan setup.\n",
      "(ii) You may not attempt to complete the loan payment outside of our service, by any other means.\n",
      "(iii) If a loan is approved, you will proceed according to the terms established.\n",
      "(iv) You are solely responsible for carrying out the repayment in full for the agreed-upon amount.\n",
      "(v) You acknowledge that the deposit of NFTs as collateral only supports the collections listed and that it is a requirement to gain access to the loan.\n",
      "(vi) You will comply with all applicable laws in submitting each loan proposal.\n",
      "(vii) You hold all necessary licenses, consent, and approvals necessary under the applicable laws to create and repay the loan.\n",
      "2.3. You will not be responsible for meeting the above requirements if:\n",
      "(i) If you cancel the loan prior to its acceptance and in accordance with our cancellation policies.\n",
      "(ii) If the loan is not accepted by the protocol due to non-compliance with pre-specified conditions.\n",
      "3.1. If you intend to act as a Lender, you can deposit a selected amount of WETH in an open lending pool, accept the conditions, and then approve the WETH transfer to conclude the deposit.\n",
      "3.2. For each deposit, there is a lock period of seven (7) days during which you cannot withdraw the selected amount.\n",
      "3.3. As a Lender, you agree to comply with our policies and practices as set forth herein, even though they can be revised from time to time, and also that:\n",
      "(i) You are solely responsible for ensuring that you understand the lending process and the associated terms.\n",
      "---------------------\n",
      "Given the context information and not prior knowledge, either pick the corresponding tool or answer the function: We have provided context information below. \n",
      "---------------------\n",
      "Always answer as if you were a customer service answer working at Zharta. Prefer to use \"we\" instead of \"them\" when talking about Zharta, its team or its customer service. Always keep in mind that Zharta provides two services: lending and borrowing using NFTs as collateral, and renting for the LOTM game. Never abbreviate Legens of the Mara as LOTM. \n",
      "---------------------\n",
      "Given this information, please answer the question: why do you say that zharta has a token?\n",
      "\n",
      "\n",
      "\u001b[0mSTARTING TURN 1\n",
      "---------------\n",
      "\n"
     ]
    }
   ],
   "source": [
    "user_query = \"why do you say that zharta has a token?\"\n",
    "\n",
    "prompt = qa_template.format(context_str=context_str, query_str=user_query)\n",
    "response = context_agent.chat(prompt)"
   ]
  },
  {
   "cell_type": "code",
   "execution_count": 58,
   "id": "2883c371-0203-4211-b4ec-880b365ef80c",
   "metadata": {},
   "outputs": [
    {
     "name": "stdout",
     "output_type": "stream",
     "text": [
      "Zharta does not currently have its own token. It is a DeFi Web3 startup that provides instant loans and renting services using NFTs as collateral. While Zharta operates on the Ethereum Network and interacts with cryptocurrencies like Wrapped Ether (WETH), it does not have its own native token.\n"
     ]
    }
   ],
   "source": [
    "print(str(response))"
   ]
  },
  {
   "cell_type": "code",
   "execution_count": null,
   "id": "3b0c01d5-f91d-41b0-9995-85f3846b6154",
   "metadata": {},
   "outputs": [],
   "source": []
  },
  {
   "cell_type": "code",
   "execution_count": null,
   "id": "5bc9531b-5add-43ea-847b-06d1e985b8a7",
   "metadata": {},
   "outputs": [],
   "source": []
  },
  {
   "cell_type": "code",
   "execution_count": null,
   "id": "07d132b8-9281-4070-b8ed-874e1482e002",
   "metadata": {},
   "outputs": [],
   "source": []
  },
  {
   "cell_type": "code",
   "execution_count": null,
   "id": "cd3a729a-fc82-4594-9818-f3cafa722334",
   "metadata": {},
   "outputs": [],
   "source": []
  }
 ],
 "metadata": {
  "kernelspec": {
   "display_name": "Python 3 (ipykernel)",
   "language": "python",
   "name": "python3"
  },
  "language_info": {
   "codemirror_mode": {
    "name": "ipython",
    "version": 3
   },
   "file_extension": ".py",
   "mimetype": "text/x-python",
   "name": "python",
   "nbconvert_exporter": "python",
   "pygments_lexer": "ipython3",
   "version": "3.9.15"
  }
 },
 "nbformat": 4,
 "nbformat_minor": 5
}
